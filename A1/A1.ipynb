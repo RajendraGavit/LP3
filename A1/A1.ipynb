{
 "cells": [
  {
   "cell_type": "code",
   "execution_count": 1,
   "metadata": {
    "id": "stEMsA9otuzx"
   },
   "outputs": [],
   "source": [
    "import matplotlib.pyplot as plt\n",
    "import pandas as pd"
   ]
  },
  {
   "cell_type": "code",
   "execution_count": 2,
   "metadata": {
    "id": "n77_0cZEt6yI"
   },
   "outputs": [],
   "source": [
    "# Read Dataset\n",
    "dataset=pd.read_csv(\"hours.csv\")\n",
    "X=dataset.iloc[:,:-1].values\n",
    "y=dataset.iloc[:,1].values"
   ]
  },
  {
   "cell_type": "code",
   "execution_count": 3,
   "metadata": {
    "colab": {
     "base_uri": "https://localhost:8080/"
    },
    "id": "iz7JpWR1t8UA",
    "outputId": "d8c5db5a-e44b-4152-ab05-f1967a869e25"
   },
   "outputs": [
    {
     "name": "stdout",
     "output_type": "stream",
     "text": [
      "Accuracy :\n",
      "43.709481451010035\n"
     ]
    }
   ],
   "source": [
    "# Import the Linear Regression and Create object of it\n",
    "from sklearn.linear_model import LinearRegression\n",
    "regressor=LinearRegression()\n",
    "regressor.fit(X,y)\n",
    "Accuracy=regressor.score(X, y)*100\n",
    "print(\"Accuracy :\")\n",
    "print(Accuracy)"
   ]
  },
  {
   "cell_type": "code",
   "execution_count": 4,
   "metadata": {
    "colab": {
     "base_uri": "https://localhost:8080/"
    },
    "id": "EMkvg2OGt-XU",
    "outputId": "0d406773-ba3b-4d05-fdb1-2a764ed87ff3"
   },
   "outputs": [
    {
     "name": "stdout",
     "output_type": "stream",
     "text": [
      "[58.46361406]\n"
     ]
    }
   ],
   "source": [
    "# Predict the value using Regressor Object\n",
    "y_pred=regressor.predict([[10]])\n",
    "print(y_pred)\n"
   ]
  },
  {
   "cell_type": "code",
   "execution_count": 5,
   "metadata": {
    "colab": {
     "base_uri": "https://localhost:8080/"
    },
    "id": "43jJH5NouACI",
    "outputId": "47ad09de-ab17-4244-fe99-cc0deed91df3"
   },
   "outputs": [
    {
     "name": "stdout",
     "output_type": "stream",
     "text": [
      "Enter the no of hours10\n"
     ]
    }
   ],
   "source": [
    "# Take user input\n",
    "hours=int(input('Enter the no of hours'))\n"
   ]
  },
  {
   "cell_type": "code",
   "execution_count": 6,
   "metadata": {
    "colab": {
     "base_uri": "https://localhost:8080/",
     "height": 315
    },
    "id": "LCAvBa-UuBhg",
    "outputId": "04c33aeb-d806-483c-c310-747c22ff12ab"
   },
   "outputs": [
    {
     "name": "stdout",
     "output_type": "stream",
     "text": [
      "y :\n",
      "4.587899*10.000000+12.584628\n",
      "Risk Score :  58.4636140637776\n"
     ]
    },
    {
     "data": {
      "image/png": "[encoded data removed]",
      "text/plain": [
       "<Figure size 432x288 with 1 Axes>"
      ]
     },
     "metadata": {
      "needs_background": "light"
     },
     "output_type": "display_data"
    }
   ],
   "source": [
    "#calculate the value of y\n",
    "eq=regressor.coef_*hours+regressor.intercept_\n",
    "y_new='%f*%f+%f' %(regressor.coef_,hours,regressor.intercept_)\n",
    "print(\"y :\")\n",
    "print(y_new)\n",
    "print(\"Risk Score : \", eq[0])\n",
    "plt.plot(X,y,'o')\n",
    "plt.plot(X,regressor.predict(X));\n",
    "plt.show()\n"
   ]
  }
 ],
 "metadata": {
  "colab": {
   "name": "A1i.pynb",
   "provenance": []
  },
  "kernelspec": {
   "display_name": "Python 3",
   "language": "python",
   "name": "python3"
  },
  "language_info": {
   "codemirror_mode": {
    "name": "ipython",
    "version": 3
   },
   "file_extension": ".py",
   "mimetype": "text/x-python",
   "name": "python",
   "nbconvert_exporter": "python",
   "pygments_lexer": "ipython3",
   "version": "3.7.6"
  }
 },
 "nbformat": 4,
 "nbformat_minor": 1
}
